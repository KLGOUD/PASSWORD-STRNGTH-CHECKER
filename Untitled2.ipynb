{
 "cells": [
  {
   "cell_type": "code",
   "execution_count": 2,
   "id": "7f62e411-2cb2-4e96-bb88-2fb709092523",
   "metadata": {},
   "outputs": [
    {
     "name": "stdin",
     "output_type": "stream",
     "text": [
      "Enter a password to assess:  Latha@12345\n"
     ]
    },
    {
     "name": "stdout",
     "output_type": "stream",
     "text": [
      "Password Strength: Very Strong\n",
      "Password meets all criteria.\n"
     ]
    }
   ],
   "source": [
    "import re\n",
    "\n",
    "def assess_password_strength(password):\n",
    "    # Define criteria\n",
    "    length_criteria = len(password) >= 8\n",
    "    upper_case_criteria = bool(re.search(r'[A-Z]', password))\n",
    "    lower_case_criteria = bool(re.search(r'[a-z]', password))\n",
    "    number_criteria = bool(re.search(r'\\d', password))\n",
    "    special_char_criteria = bool(re.search(r'[!@#$%^&*(),.?\":{}|<>]', password))\n",
    "\n",
    "    # Assess overall strength\n",
    "    strength_score = 0\n",
    "    if length_criteria:\n",
    "        strength_score += 1\n",
    "    if upper_case_criteria:\n",
    "        strength_score += 1\n",
    "    if lower_case_criteria:\n",
    "        strength_score += 1\n",
    "    if number_criteria:\n",
    "        strength_score += 1\n",
    "    if special_char_criteria:\n",
    "        strength_score += 1\n",
    "\n",
    "    # Provide feedback based on criteria\n",
    "    feedback = []\n",
    "\n",
    "    if not length_criteria:\n",
    "        feedback.append(\"Password should be at least 8 characters long.\")\n",
    "    if not upper_case_criteria:\n",
    "        feedback.append(\"Password should include at least one uppercase letter.\")\n",
    "    if not lower_case_criteria:\n",
    "        feedback.append(\"Password should include at least one lowercase letter.\")\n",
    "    if not number_criteria:\n",
    "        feedback.append(\"Password should include at least one number.\")\n",
    "    if not special_char_criteria:\n",
    "        feedback.append(\"Password should include at least one special character.\")\n",
    "    \n",
    "    # Determine strength\n",
    "    if strength_score == 5:\n",
    "        strength = \"Very Strong\"\n",
    "    elif strength_score == 4:\n",
    "        strength = \"Strong\"\n",
    "    elif strength_score == 3:\n",
    "        strength = \"Moderate\"\n",
    "    elif strength_score == 2:\n",
    "        strength = \"Weak\"\n",
    "    else:\n",
    "        strength = \"Very Weak\"\n",
    "\n",
    "    return strength, feedback\n",
    "\n",
    "# Main function to get user input and display feedback\n",
    "def main():\n",
    "    password = input(\"Enter a password to assess: \")\n",
    "    strength, feedback = assess_password_strength(password)\n",
    "    \n",
    "    print(f\"Password Strength: {strength}\")\n",
    "    if feedback:\n",
    "        print(\"Feedback:\")\n",
    "        for comment in feedback:\n",
    "            print(f\"- {comment}\")\n",
    "    else:\n",
    "        print(\"Password meets all criteria.\")\n",
    "\n",
    "if __name__ == \"__main__\":\n",
    "    main()\n"
   ]
  },
  {
   "cell_type": "code",
   "execution_count": 4,
   "id": "4c1ff901-2a13-4a66-b281-6ceb29b5e615",
   "metadata": {},
   "outputs": [
    {
     "name": "stdin",
     "output_type": "stream",
     "text": [
      "Enter a password to assess:  latha\n"
     ]
    },
    {
     "name": "stdout",
     "output_type": "stream",
     "text": [
      "Password Strength: Very Weak\n",
      "Feedback:\n",
      "- Password should be at least 8 characters long.\n",
      "- Password should include at least one uppercase letter.\n",
      "- Password should include at least one number.\n",
      "- Password should include at least one special character.\n"
     ]
    }
   ],
   "source": [
    "import re\n",
    "\n",
    "def assess_password_strength(password):\n",
    "    # Define criteria\n",
    "    length_criteria = len(password) >= 8\n",
    "    upper_case_criteria = bool(re.search(r'[A-Z]', password))\n",
    "    lower_case_criteria = bool(re.search(r'[a-z]', password))\n",
    "    number_criteria = bool(re.search(r'\\d', password))\n",
    "    special_char_criteria = bool(re.search(r'[!@#$%^&*(),.?\":{}|<>]', password))\n",
    "\n",
    "    # Assess overall strength\n",
    "    strength_score = 0\n",
    "    if length_criteria:\n",
    "        strength_score += 1\n",
    "    if upper_case_criteria:\n",
    "        strength_score += 1\n",
    "    if lower_case_criteria:\n",
    "        strength_score += 1\n",
    "    if number_criteria:\n",
    "        strength_score += 1\n",
    "    if special_char_criteria:\n",
    "        strength_score += 1\n",
    "\n",
    "    # Provide feedback based on criteria\n",
    "    feedback = []\n",
    "\n",
    "    if not length_criteria:\n",
    "        feedback.append(\"Password should be at least 8 characters long.\")\n",
    "    if not upper_case_criteria:\n",
    "        feedback.append(\"Password should include at least one uppercase letter.\")\n",
    "    if not lower_case_criteria:\n",
    "        feedback.append(\"Password should include at least one lowercase letter.\")\n",
    "    if not number_criteria:\n",
    "        feedback.append(\"Password should include at least one number.\")\n",
    "    if not special_char_criteria:\n",
    "        feedback.append(\"Password should include at least one special character.\")\n",
    "    \n",
    "    # Determine strength\n",
    "    if strength_score == 5:\n",
    "        strength = \"Very Strong\"\n",
    "    elif strength_score == 4:\n",
    "        strength = \"Strong\"\n",
    "    elif strength_score == 3:\n",
    "        strength = \"Moderate\"\n",
    "    elif strength_score == 2:\n",
    "        strength = \"Weak\"\n",
    "    else:\n",
    "        strength = \"Very Weak\"\n",
    "\n",
    "    return strength, feedback\n",
    "\n",
    "# Main function to get user input and display feedback\n",
    "def main():\n",
    "    password = input(\"Enter a password to assess: \")\n",
    "    strength, feedback = assess_password_strength(password)\n",
    "    \n",
    "    print(f\"Password Strength: {strength}\")\n",
    "    if feedback:\n",
    "        print(\"Feedback:\")\n",
    "        for comment in feedback:\n",
    "            print(f\"- {comment}\")\n",
    "    else:\n",
    "        print(\"Password meets all criteria.\")\n",
    "\n",
    "if __name__ == \"__main__\":\n",
    "    main()\n"
   ]
  },
  {
   "cell_type": "code",
   "execution_count": null,
   "id": "0165514a-181a-4ad0-835c-510c4f3ba5b4",
   "metadata": {},
   "outputs": [],
   "source": []
  }
 ],
 "metadata": {
  "kernelspec": {
   "display_name": "Python 3 (ipykernel)",
   "language": "python",
   "name": "python3"
  },
  "language_info": {
   "codemirror_mode": {
    "name": "ipython",
    "version": 3
   },
   "file_extension": ".py",
   "mimetype": "text/x-python",
   "name": "python",
   "nbconvert_exporter": "python",
   "pygments_lexer": "ipython3",
   "version": "3.11.7"
  }
 },
 "nbformat": 4,
 "nbformat_minor": 5
}
